{
 "cells": [
  {
   "cell_type": "markdown",
   "id": "d3bfc191-8885-42ee-b0a0-bbab867c6f9f",
   "metadata": {
    "tags": []
   },
   "source": [
    "# Lab | Flow Control"
   ]
  },
  {
   "cell_type": "markdown",
   "id": "3851fcd1-cf98-4653-9c89-e003b7ec9400",
   "metadata": {},
   "source": [
    "## Exercise: Managing Customer Orders Optimized\n",
    "\n",
    "In the last lab, you were starting an online store that sells various products. To ensure smooth operations, you developed a program that manages customer orders and inventory.\n",
    "\n",
    "You did so without using flow control. Let's go a step further and improve this code.\n",
    "\n",
    "Follow the steps below to complete the exercise:\n",
    "\n",
    "1. Look at your code from the lab data structures, and improve repeated code with loops.\n",
    "\n",
    "2. Instead of asking the user to input the name of three products that a customer wants to order, do the following:\n",
    "    \n",
    "    a. Prompt the user to enter the name of a product that a customer wants to order.\n",
    "    \n",
    "    b. Add the product name to the \"customer_orders\" set.\n",
    "    \n",
    "    c. Ask the user if they want to add another product (yes/no).\n",
    "    \n",
    "    d. Continue the loop until the user does not want to add another product.\n",
    "\n",
    "3. Instead of updating the inventory by subtracting 1 from the quantity of each product, only do it for  the products that were ordered (those in \"customer_orders\")."
   ]
  },
  {
   "cell_type": "code",
   "execution_count": null,
   "id": "6d06e416-d248-465a-a047-808da0e2bfd4",
   "metadata": {},
   "outputs": [
    {
     "name": "stdout",
     "output_type": "stream",
     "text": [
      "Please enter the quantity for each product:\n"
     ]
    },
    {
     "name": "stdin",
     "output_type": "stream",
     "text": [
      "Enter quantity for t-shirt:  4\n",
      "Enter quantity for mug:  4\n",
      "Enter quantity for hat:  4\n",
      "Enter quantity for book:  4\n",
      "Enter quantity for keychain:  4\n"
     ]
    },
    {
     "name": "stdout",
     "output_type": "stream",
     "text": [
      "\n",
      "Enter products that the customer wants to order (from the list: t-shirt, mug, hat, book, keychain):\n"
     ]
    }
   ],
   "source": [
    "products = [\"t-shirt\", \"mug\", \"hat\", \"book\", \"keychain\"]\n",
    "\n",
    "inventory = {}\n",
    "print(\"Please enter the quantity for each product:\")\n",
    "for product in products:\n",
    "    inventory[product] = int(input(f\"Enter quantity for {product}: \"))\n",
    "\n",
    "customer_orders = set()\n",
    "print(\"\\nEnter products that the customer wants to order (from the list: t-shirt, mug, hat, book, keychain):\")\n",
    "continue_ordering = True\n",
    "while continue_ordering:\n",
    "    # Prompt user for a product\n",
    "    order = input(\"Enter product name: \")\n",
    "    if order in products:\n",
    "        customer_orders.add(order)\n",
    "        print(f\"Added {order} to the order.\")\n",
    "    else:\n",
    "        print(f\"Invalid product. Please choose from: {', '.join(products)}\")\n",
    "        continue\n",
    "        add_more = input(\"Do you want to add another product? (yes/no): \").lower()\n",
    "    if add_more != \"yes\":\n",
    "        continue_ordering = False\n",
    "        print(\"\\nCustomer ordered the following products:\")\n",
    "for product in customer_orders:\n",
    "    print(product)\n",
    "    \n",
    "total_products_ordered = len(customer_orders)\n",
    "percentage_ordered = (total_products_ordered / len(products)) * 100\n",
    "\n",
    "order_status = (total_products_ordered, percentage_ordered)\n",
    "print(\"\\nOrder Statistics:\")\n",
    "print(f\"Total Products Ordered: {order_status[0]}\")\n",
    "print(f\"Percentage of Products Ordered: {order_status[1]}%\")\n",
    "print(\"\\nUpdating inventory for ordered products...\")\n",
    "for product in customer_orders:\n",
    "    inventory[product] -= 1\n",
    "    print(\"\\nUpdated Inventory:\")\n",
    "for product in inventory:\n",
    "    print(f\"{product}: {inventory[product]}\")"
   ]
  },
  {
   "cell_type": "code",
   "execution_count": null,
   "id": "17801770-c2c3-43f2-8e9f-9227c7a38c3c",
   "metadata": {},
   "outputs": [],
   "source": []
  }
 ],
 "metadata": {
  "kernelspec": {
   "display_name": "Python 3 (ipykernel)",
   "language": "python",
   "name": "python3"
  },
  "language_info": {
   "codemirror_mode": {
    "name": "ipython",
    "version": 3
   },
   "file_extension": ".py",
   "mimetype": "text/x-python",
   "name": "python",
   "nbconvert_exporter": "python",
   "pygments_lexer": "ipython3",
   "version": "3.12.7"
  }
 },
 "nbformat": 4,
 "nbformat_minor": 5
}
